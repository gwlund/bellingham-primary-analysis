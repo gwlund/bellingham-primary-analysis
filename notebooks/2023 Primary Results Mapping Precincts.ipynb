{
 "cells": [
  {
   "cell_type": "markdown",
   "metadata": {},
   "source": [
    "## Analysis of the Aug 2023 primary results for the Bellingham mayoral race in Whatcom County"
   ]
  },
  {
   "cell_type": "markdown",
   "metadata": {},
   "source": [
    "# Background Info\n",
    "\n",
    "Good source for graph inspiration\n",
    "https://medium.com/analytics-vidhya/plotly-for-geomaps-bb75d1de189f\n",
    "\n",
    "Used https://plotly.com/python/choropleth-maps \"Choropleth map using GeoJSON\" for source of how-to\n",
    "\n",
    "1. Get shape files of Precincts from Whatcom County https://documents.co.whatcom.wa.us/WebLink/Browse.aspx?id=2951672&dbid=100&repo=WC\n",
    "\n",
    "2. Convert shape zip file to geojson using mapshaper.org\n",
    "\n",
    "*   Drag and drop shape zip onto collab via Files tab\n",
    "*   Open Console and type mapshaper -proj wg84 to convert coordinates to lat/long\n",
    "*   Export to geojson\n",
    "*   Note this json file does not have id tag which is needed to link Precinct to external csv file.  Workaroun is to use parameter 'featureidkey' to explicitly specify id\n",
    "\n",
    "3. Import csv and json data to collab or link via drive\n"
   ]
  },
  {
   "cell_type": "markdown",
   "metadata": {},
   "source": [
    "# Data Prep Instructions\n",
    "1. Get shape files of Precincts from Whatcom County https://documents.co.whatcom.wa.us/WebLink/Browse.aspx?id=2951672&dbid=100&repo=WC\n",
    "\n",
    "2. Convert shape zip file to geojson using mapshaper.org\n",
    "\n",
    "* Drag and drop shape zip onto mapshaper site\n",
    "* Open Console and type mapshaper -proj wg84 to convert coordinates to lat/long\n",
    "* Export to geojson\n",
    "\n",
    "  Note this json file does not have id tag which is needed to link Precinct to external csv file. Workaroun is to use parameter 'featureidkey' to explicitly specify id\n",
    "\n",
    "3. Import csv and json data to collab or link via drive"
   ]
  },
  {
   "cell_type": "markdown",
   "metadata": {},
   "source": [
    "## Import the raw data into dataframes"
   ]
  },
  {
   "cell_type": "code",
   "execution_count": null,
   "metadata": {
    "vscode": {
     "languageId": "plaintext"
    }
   },
   "outputs": [],
   "source": [
    "import pandas as pd\n",
    "\n",
    "#df_votes_by_precinct = pd.read_csv('/content/20230801_whatcom_123167-precincts.csv')\n",
    "df_votes_by_precinct = pd.read_csv('/content/20230801_whatcom_123167-precincts.csv', skiprows=1)\n",
    "\n",
    "#Remove the totals in row 1\n",
    "df_votes_by_precinct = df_votes_by_precinct.drop(0)\n",
    "#Add precinct name to first column\n",
    "df_votes_by_precinct.rename(columns={'Unnamed: 0': 'Precinct'}, inplace=True)\n",
    "\n",
    "#Add precinct totals column\n",
    "df_votes_by_precinct['Totals By Precinct'] = df_votes_by_precinct.iloc[:, 1:].sum(axis=1)\n",
    "\n",
    "df_votes_by_precinct"
   ]
  }
 ],
 "metadata": {
  "language_info": {
   "name": "python"
  },
  "orig_nbformat": 4
 },
 "nbformat": 4,
 "nbformat_minor": 2
}
